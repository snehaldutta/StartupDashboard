{
 "cells": [
  {
   "cell_type": "code",
   "execution_count": null,
   "id": "a03c8030-a897-4b58-ac69-5f76701b01e0",
   "metadata": {},
   "outputs": [],
   "source": []
  },
  {
   "cell_type": "code",
   "execution_count": 1,
   "id": "d1046d53-542f-4fae-ba11-d1d98bb20ee9",
   "metadata": {
    "scrolled": true
   },
   "outputs": [],
   "source": [
    "# pip install faker"
   ]
  },
  {
   "cell_type": "code",
   "execution_count": 2,
   "id": "8a3b5f1f-3a76-4e76-9751-529036373c8b",
   "metadata": {},
   "outputs": [],
   "source": [
    "from faker import Faker\n",
    "import numpy as np\n",
    "import pandas as pd\n",
    "import random\n",
    "from typing import List, Dict"
   ]
  },
  {
   "cell_type": "code",
   "execution_count": null,
   "id": "69c0645a-22c6-41e3-ae47-c8c2ccb64c74",
   "metadata": {},
   "outputs": [],
   "source": []
  },
  {
   "cell_type": "code",
   "execution_count": 3,
   "id": "169f8bb1-9c1f-40ea-82ec-daf0aae4d0a8",
   "metadata": {},
   "outputs": [],
   "source": [
    "np.random.seed(42)\n",
    "random.seed(42)"
   ]
  },
  {
   "cell_type": "code",
   "execution_count": 10,
   "id": "b2b6e19f-ab2b-484a-ac7b-01b736237359",
   "metadata": {},
   "outputs": [],
   "source": [
    "class csvBuilder():\n",
    "    def __init__(self,sample_size: int, industries: List[str], prob_indus: List[float], countries: List[str], prob_countries: List[float], funding_means: Dict[str,int]):\n",
    "        self.companies = Faker()\n",
    "        self.sample_size = sample_size\n",
    "        self.industries = industries\n",
    "        self.prob_indus = prob_indus\n",
    "        self.countries = countries\n",
    "        self.prob_countries = prob_countries\n",
    "        self.funding_means = funding_means\n",
    "        self.data = None\n",
    "\n",
    "    def build_dataframe(self)-> pd.DataFrame:\n",
    "        self.data = pd.DataFrame(\n",
    "            {\n",
    "                'company_name':[self.companies.company() for _ in range(self.sample_size)],\n",
    "                'founded_on' : pd.to_datetime(np.random.choice(pd.date_range('2010-01-01','2022-12-31'), size=self.sample_size)),\n",
    "                'industry': np.random.choice(self.industries, size=self.sample_size, p=self.prob_indus),\n",
    "                'headquarters': np.random.choice(self.countries, size=self.sample_size, p=self.prob_countries),\n",
    "                'founder_experience': np.random.exponential(scale=5, size=self.sample_size).astype(int)\n",
    "            }\n",
    "        )\n",
    "        return self.data\n",
    "\n",
    "    def variation_data_information(self) -> pd.DataFrame:\n",
    "        self.investors = []\n",
    "        self.rounds = []\n",
    "        self.funding = []\n",
    "        for i in range(len(self.data)):\n",
    "            industry = self.data.loc[i,'industry']\n",
    "            exp = self.data.loc[i,'founder_experience']\n",
    "\n",
    "            base = self.funding_means[industry]\n",
    "            noise = np.random.normal(0,base*0.3)\n",
    "            multiplier = 1 + min(exp,15)*0.05\n",
    "\n",
    "            fund = max(1_000_000, int(base*multiplier + noise))\n",
    "            self.funding.append(fund)\n",
    "\n",
    "            round = np.clip(int(np.random.exponential(scale=2) + fund/15_000_000),1,8)\n",
    "            investor = np.clip(int(np.random.poisson(3)+fund/10_000_000),1,20)\n",
    "\n",
    "            self.rounds.append(round)\n",
    "            self.investors.append(investor)\n",
    "\n",
    "        self.data['total_funding_usd'] = self.funding\n",
    "        self.data['num_funding_rounds'] = self.rounds\n",
    "        self.data['investors_count'] = self.investors\n",
    "\n",
    "        self.data['last_funding_date'] = self.data['founded_on']+pd.to_timedelta(\n",
    "            np.random.randint(365,365*10,size=len(self.data)), unit='D'\n",
    "        )\n",
    "        self.data['last_funding_date'] = self.data['last_funding_date'].clip(upper=pd.Timestamp('2025-03-31'))\n",
    "\n",
    "        return self.data\n",
    "\n",
    "    def target_column(self) -> pd.DataFrame:\n",
    "        for idx, row in self.data.iterrows():\n",
    "            if row['total_funding_usd'] > 20_000_000 and row['num_funding_rounds'] > 3:\n",
    "                self.data.at[idx,'status'] = np.random.choice(['success', 'fail'], p=[0.6, 0.4])\n",
    "\n",
    "            elif row['total_funding_usd'] > 5_000_000:\n",
    "                 self.data.at[idx,'status'] = np.random.choice(['success', 'fail'], p=[0.25, 0.75])\n",
    "\n",
    "            else:\n",
    "                 self.data.at[idx,'status'] = np.random.choice(['success', 'fail'], p=[0.15, 0.85])\n",
    "\n",
    "        return self.data\n",
    "\n",
    "    def missing_vals(self) -> pd.DataFrame:\n",
    "        for col in ['founder_experience','last_funding_date','industry']:\n",
    "            self.data.loc[self.data.sample(frac=0.05).index, col] = np.nan\n",
    "\n",
    "        return self.data\n",
    "\n",
    "    def generate(self) -> pd.DataFrame:\n",
    "        self.build_dataframe()\n",
    "        self.variation_data_information()\n",
    "        self.target_column()\n",
    "        self.missing_vals()\n",
    "        return self.data"
   ]
  },
  {
   "cell_type": "code",
   "execution_count": null,
   "id": "4c51b7e2-5040-4366-960b-af1a6adbe164",
   "metadata": {},
   "outputs": [],
   "source": []
  },
  {
   "cell_type": "code",
   "execution_count": 20,
   "id": "dbd218c4-792d-4746-aa52-bef47f5d1a0e",
   "metadata": {},
   "outputs": [],
   "source": [
    "n = 15000\n",
    "\n",
    "industries = ['FinTech', 'HealthTech', 'E-Commerce', 'AI', 'EdTech', 'SaaS', 'Gaming', 'Biotech']\n",
    "industry_probs = [0.15, 0.12, 0.2, 0.18, 0.1, 0.1, 0.08, 0.07]\n",
    "\n",
    "countries = ['US', 'India', 'UK', 'Germany', 'Canada', 'Israel', 'Singapore']\n",
    "country_probs = [0.4, 0.2, 0.1, 0.08, 0.08, 0.07, 0.07]\n",
    "\n",
    "funding_means = {\n",
    "    'FinTech': 18_000_000,\n",
    "    'HealthTech': 15_000_000,\n",
    "    'E-Commerce': 12_000_000,\n",
    "    'AI': 22_000_000,\n",
    "    'EdTech': 8_000_000,\n",
    "    'SaaS': 14_000_000,\n",
    "    'Gaming': 10_000_000,\n",
    "    'Biotech': 25_000_000\n",
    "}"
   ]
  },
  {
   "cell_type": "code",
   "execution_count": 21,
   "id": "d5882e53-f846-4a40-9e9c-2f8102ff1502",
   "metadata": {},
   "outputs": [],
   "source": [
    "data_gen = csvBuilder(n,industries,industry_probs,countries,country_probs,funding_means)"
   ]
  },
  {
   "cell_type": "code",
   "execution_count": 18,
   "id": "b080ff4b-4628-40e1-b29f-cc213fcef22f",
   "metadata": {},
   "outputs": [],
   "source": [
    "# df = data_gen.generate()\n",
    "# df.head(3)"
   ]
  },
  {
   "cell_type": "code",
   "execution_count": 17,
   "id": "d0a13f2c-65a5-48aa-9a5d-8c124624fb76",
   "metadata": {},
   "outputs": [],
   "source": [
    "# df.to_csv('data/startup_data.csv',index=False)"
   ]
  }
 ],
 "metadata": {
  "kernelspec": {
   "display_name": "Python 3 (ipykernel)",
   "language": "python",
   "name": "python3"
  },
  "language_info": {
   "codemirror_mode": {
    "name": "ipython",
    "version": 3
   },
   "file_extension": ".py",
   "mimetype": "text/x-python",
   "name": "python",
   "nbconvert_exporter": "python",
   "pygments_lexer": "ipython3",
   "version": "3.11.7"
  }
 },
 "nbformat": 4,
 "nbformat_minor": 5
}
