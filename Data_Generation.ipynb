{
 "cells": [
  {
   "cell_type": "markdown",
   "id": "ba2b023c-1ad8-493f-9bda-80b248cb9424",
   "metadata": {},
   "source": [
    "## Importing the Libraries ##"
   ]
  },
  {
   "cell_type": "code",
   "execution_count": 1,
   "id": "d1046d53-542f-4fae-ba11-d1d98bb20ee9",
   "metadata": {
    "scrolled": true
   },
   "outputs": [],
   "source": [
    "# pip install faker"
   ]
  },
  {
   "cell_type": "code",
   "execution_count": 2,
   "id": "8a3b5f1f-3a76-4e76-9751-529036373c8b",
   "metadata": {},
   "outputs": [],
   "source": [
    "from faker import Faker\n",
    "import numpy as np\n",
    "import pandas as pd\n",
    "import random\n",
    "from typing import List, Dict"
   ]
  },
  {
   "cell_type": "markdown",
   "id": "c8986c36-3b95-4785-afd8-a03f9e760779",
   "metadata": {},
   "source": [
    "## Building the class for data generation ##"
   ]
  },
  {
   "cell_type": "code",
   "execution_count": 3,
   "id": "169f8bb1-9c1f-40ea-82ec-daf0aae4d0a8",
   "metadata": {},
   "outputs": [],
   "source": [
    "np.random.seed(42)\n",
    "random.seed(42)"
   ]
  },
  {
   "cell_type": "code",
   "execution_count": 10,
   "id": "b2b6e19f-ab2b-484a-ac7b-01b736237359",
   "metadata": {},
   "outputs": [],
   "source": [
    "class csvBuilder():\n",
    "    def __init__(self,sample_size: int, industries: List[str], prob_indus: List[float], countries: List[str], prob_countries: List[float], funding_means: Dict[str,int]):\n",
    "        self.companies = Faker()\n",
    "        self.sample_size = sample_size\n",
    "        self.industries = industries\n",
    "        self.prob_indus = prob_indus\n",
    "        self.countries = countries\n",
    "        self.prob_countries = prob_countries\n",
    "        self.funding_means = funding_means\n",
    "        self.data = None\n",
    "\n",
    "    def build_dataframe(self)-> pd.DataFrame:\n",
    "        self.data = pd.DataFrame(\n",
    "            {\n",
    "                'company_name':[self.companies.company() for _ in range(self.sample_size)],\n",
    "                'founded_on' : pd.to_datetime(np.random.choice(pd.date_range('2010-01-01','2022-12-31'), size=self.sample_size)),\n",
    "                'industry': np.random.choice(self.industries, size=self.sample_size, p=self.prob_indus),\n",
    "                'headquarters': np.random.choice(self.countries, size=self.sample_size, p=self.prob_countries),\n",
    "                'founder_experience': np.random.exponential(scale=5, size=self.sample_size).astype(int)\n",
    "            }\n",
    "        )\n",
    "        return self.data\n",
    "\n",
    "    def variation_data_information(self) -> pd.DataFrame:\n",
    "        self.investors = []\n",
    "        self.rounds = []\n",
    "        self.funding = []\n",
    "        for i in range(len(self.data)):\n",
    "            industry = self.data.loc[i,'industry']\n",
    "            exp = self.data.loc[i,'founder_experience']\n",
    "\n",
    "            base = self.funding_means[industry]\n",
    "            noise = np.random.normal(0,base*0.3)\n",
    "            multiplier = 1 + min(exp,15)*0.05\n",
    "\n",
    "            fund = max(1_000_000, int(base*multiplier + noise))\n",
    "            self.funding.append(fund)\n",
    "\n",
    "            round = np.clip(int(np.random.exponential(scale=2) + fund/15_000_000),1,8)\n",
    "            investor = np.clip(int(np.random.poisson(3)+fund/10_000_000),1,20)\n",
    "\n",
    "            self.rounds.append(round)\n",
    "            self.investors.append(investor)\n",
    "\n",
    "        self.data['total_funding_usd'] = self.funding\n",
    "        self.data['num_funding_rounds'] = self.rounds\n",
    "        self.data['investors_count'] = self.investors\n",
    "\n",
    "        self.data['last_funding_date'] = self.data['founded_on']+pd.to_timedelta(\n",
    "            np.random.randint(365,365*10,size=len(self.data)), unit='D'\n",
    "        )\n",
    "        self.data['last_funding_date'] = self.data['last_funding_date'].clip(upper=pd.Timestamp('2025-03-31'))\n",
    "\n",
    "        return self.data\n",
    "\n",
    "    def target_column(self) -> pd.DataFrame:\n",
    "        for idx, row in self.data.iterrows():\n",
    "            if row['total_funding_usd'] > 20_000_000 and row['num_funding_rounds'] > 3:\n",
    "                self.data.at[idx,'status'] = np.random.choice(['success', 'fail'], p=[0.6, 0.4])\n",
    "\n",
    "            elif row['total_funding_usd'] > 5_000_000:\n",
    "                 self.data.at[idx,'status'] = np.random.choice(['success', 'fail'], p=[0.25, 0.75])\n",
    "\n",
    "            else:\n",
    "                 self.data.at[idx,'status'] = np.random.choice(['success', 'fail'], p=[0.15, 0.85])\n",
    "\n",
    "        return self.data\n",
    "\n",
    "    def missing_vals(self) -> pd.DataFrame:\n",
    "        for col in ['founder_experience','last_funding_date','industry']:\n",
    "            self.data.loc[self.data.sample(frac=0.05).index, col] = np.nan\n",
    "\n",
    "        return self.data\n",
    "\n",
    "    def generate(self) -> pd.DataFrame:\n",
    "        self.build_dataframe()\n",
    "        self.variation_data_information()\n",
    "        self.target_column()\n",
    "        self.missing_vals()\n",
    "        return self.data"
   ]
  }
 ],
 "metadata": {
  "kernelspec": {
   "display_name": "Python 3 (ipykernel)",
   "language": "python",
   "name": "python3"
  },
  "language_info": {
   "codemirror_mode": {
    "name": "ipython",
    "version": 3
   },
   "file_extension": ".py",
   "mimetype": "text/x-python",
   "name": "python",
   "nbconvert_exporter": "python",
   "pygments_lexer": "ipython3",
   "version": "3.11.7"
  }
 },
 "nbformat": 4,
 "nbformat_minor": 5
}
