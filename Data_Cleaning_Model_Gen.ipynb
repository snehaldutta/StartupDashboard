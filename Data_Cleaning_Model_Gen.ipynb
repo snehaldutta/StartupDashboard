{
 "cells": [
  {
   "cell_type": "code",
   "execution_count": null,
   "id": "77250571-85b3-4fcd-9ebd-3b50a8cfa2da",
   "metadata": {},
   "outputs": [],
   "source": []
  },
  {
   "cell_type": "code",
   "execution_count": 1,
   "id": "19cb5a63-caae-47e7-994d-ff518fc543f2",
   "metadata": {},
   "outputs": [],
   "source": [
    "# pip install import-ipynb"
   ]
  },
  {
   "cell_type": "code",
   "execution_count": 60,
   "id": "533a78f6-4bb7-4295-baed-b21306b46054",
   "metadata": {},
   "outputs": [],
   "source": [
    "import import_ipynb\n",
    "from Data_Generation import csvBuilder\n",
    "import numpy as np\n",
    "from sklearn.impute import SimpleImputer\n",
    "from sklearn.ensemble import RandomForestClassifier\n",
    "from sklearn.model_selection import train_test_split"
   ]
  },
  {
   "cell_type": "code",
   "execution_count": null,
   "id": "29a2659c-2372-4dab-a153-81a90b452d51",
   "metadata": {},
   "outputs": [],
   "source": []
  },
  {
   "cell_type": "code",
   "execution_count": 5,
   "id": "90d0f783-59e0-409f-987c-e0ef786e6291",
   "metadata": {},
   "outputs": [],
   "source": [
    "n = 15000\n",
    "\n",
    "industries = ['FinTech', 'HealthTech', 'E-Commerce', 'AI', 'EdTech', 'SaaS', 'Gaming', 'Biotech']\n",
    "industry_probs = [0.15, 0.12, 0.2, 0.18, 0.1, 0.1, 0.08, 0.07]\n",
    "\n",
    "countries = ['US', 'India', 'UK', 'Germany', 'Canada', 'Israel', 'Singapore']\n",
    "country_probs = [0.4, 0.2, 0.1, 0.08, 0.08, 0.07, 0.07]\n",
    "\n",
    "funding_means = {\n",
    "    'FinTech': 18_000_000,\n",
    "    'HealthTech': 15_000_000,\n",
    "    'E-Commerce': 12_000_000,\n",
    "    'AI': 22_000_000,\n",
    "    'EdTech': 8_000_000,\n",
    "    'SaaS': 14_000_000,\n",
    "    'Gaming': 10_000_000,\n",
    "    'Biotech': 25_000_000\n",
    "}"
   ]
  },
  {
   "cell_type": "code",
   "execution_count": 6,
   "id": "ee4b7a6d-ac2d-47a0-81d3-76de39f5f841",
   "metadata": {},
   "outputs": [],
   "source": [
    "data = csvBuilder(n,industries,industry_probs,countries,country_probs,funding_means)"
   ]
  },
  {
   "cell_type": "code",
   "execution_count": 7,
   "id": "2b7f8be4-2e45-493e-8b39-94027df3d17a",
   "metadata": {},
   "outputs": [],
   "source": [
    "df = data.generate()"
   ]
  },
  {
   "cell_type": "code",
   "execution_count": 8,
   "id": "f68f4c63-0f62-48e2-98b8-fef116b385ac",
   "metadata": {},
   "outputs": [
    {
     "data": {
      "text/html": [
       "<div>\n",
       "<style scoped>\n",
       "    .dataframe tbody tr th:only-of-type {\n",
       "        vertical-align: middle;\n",
       "    }\n",
       "\n",
       "    .dataframe tbody tr th {\n",
       "        vertical-align: top;\n",
       "    }\n",
       "\n",
       "    .dataframe thead th {\n",
       "        text-align: right;\n",
       "    }\n",
       "</style>\n",
       "<table border=\"1\" class=\"dataframe\">\n",
       "  <thead>\n",
       "    <tr style=\"text-align: right;\">\n",
       "      <th></th>\n",
       "      <th>company_name</th>\n",
       "      <th>founded_on</th>\n",
       "      <th>industry</th>\n",
       "      <th>headquarters</th>\n",
       "      <th>founder_experience</th>\n",
       "      <th>total_funding_usd</th>\n",
       "      <th>num_funding_rounds</th>\n",
       "      <th>investors_count</th>\n",
       "      <th>last_funding_date</th>\n",
       "      <th>status</th>\n",
       "    </tr>\n",
       "  </thead>\n",
       "  <tbody>\n",
       "    <tr>\n",
       "      <th>0</th>\n",
       "      <td>Murillo Inc</td>\n",
       "      <td>2013-04-03</td>\n",
       "      <td>FinTech</td>\n",
       "      <td>India</td>\n",
       "      <td>4.0</td>\n",
       "      <td>22727307</td>\n",
       "      <td>1</td>\n",
       "      <td>3</td>\n",
       "      <td>2014-08-24</td>\n",
       "      <td>fail</td>\n",
       "    </tr>\n",
       "    <tr>\n",
       "      <th>1</th>\n",
       "      <td>Reed-Gutierrez</td>\n",
       "      <td>2012-08-22</td>\n",
       "      <td>E-Commerce</td>\n",
       "      <td>US</td>\n",
       "      <td>5.0</td>\n",
       "      <td>16863728</td>\n",
       "      <td>2</td>\n",
       "      <td>2</td>\n",
       "      <td>2017-05-27</td>\n",
       "      <td>success</td>\n",
       "    </tr>\n",
       "    <tr>\n",
       "      <th>2</th>\n",
       "      <td>Nelson, Ferguson and Martin</td>\n",
       "      <td>2016-01-17</td>\n",
       "      <td>FinTech</td>\n",
       "      <td>Singapore</td>\n",
       "      <td>1.0</td>\n",
       "      <td>20044891</td>\n",
       "      <td>1</td>\n",
       "      <td>3</td>\n",
       "      <td>2024-06-08</td>\n",
       "      <td>fail</td>\n",
       "    </tr>\n",
       "  </tbody>\n",
       "</table>\n",
       "</div>"
      ],
      "text/plain": [
       "                  company_name founded_on    industry headquarters  \\\n",
       "0                  Murillo Inc 2013-04-03     FinTech        India   \n",
       "1               Reed-Gutierrez 2012-08-22  E-Commerce           US   \n",
       "2  Nelson, Ferguson and Martin 2016-01-17     FinTech    Singapore   \n",
       "\n",
       "   founder_experience  total_funding_usd  num_funding_rounds  investors_count  \\\n",
       "0                 4.0           22727307                   1                3   \n",
       "1                 5.0           16863728                   2                2   \n",
       "2                 1.0           20044891                   1                3   \n",
       "\n",
       "  last_funding_date   status  \n",
       "0        2014-08-24     fail  \n",
       "1        2017-05-27  success  \n",
       "2        2024-06-08     fail  "
      ]
     },
     "execution_count": 8,
     "metadata": {},
     "output_type": "execute_result"
    }
   ],
   "source": [
    "df.head(3)"
   ]
  },
  {
   "cell_type": "code",
   "execution_count": null,
   "id": "19d02157-a8d3-4ece-8ead-4861bfe2fb3c",
   "metadata": {},
   "outputs": [],
   "source": []
  },
  {
   "cell_type": "code",
   "execution_count": 9,
   "id": "c2a7c2c8-93a7-4069-89d3-c2364abf90ca",
   "metadata": {},
   "outputs": [
    {
     "name": "stdout",
     "output_type": "stream",
     "text": [
      "<class 'pandas.core.frame.DataFrame'>\n",
      "RangeIndex: 15000 entries, 0 to 14999\n",
      "Data columns (total 10 columns):\n",
      " #   Column              Non-Null Count  Dtype         \n",
      "---  ------              --------------  -----         \n",
      " 0   company_name        15000 non-null  object        \n",
      " 1   founded_on          15000 non-null  datetime64[ns]\n",
      " 2   industry            14250 non-null  object        \n",
      " 3   headquarters        15000 non-null  object        \n",
      " 4   founder_experience  14250 non-null  float64       \n",
      " 5   total_funding_usd   15000 non-null  int64         \n",
      " 6   num_funding_rounds  15000 non-null  int64         \n",
      " 7   investors_count     15000 non-null  int64         \n",
      " 8   last_funding_date   14250 non-null  datetime64[ns]\n",
      " 9   status              15000 non-null  object        \n",
      "dtypes: datetime64[ns](2), float64(1), int64(3), object(4)\n",
      "memory usage: 1.1+ MB\n"
     ]
    }
   ],
   "source": [
    "df.info()"
   ]
  },
  {
   "cell_type": "code",
   "execution_count": 10,
   "id": "f8c5247a-b3b8-4639-b6a2-be03b1ddf86a",
   "metadata": {},
   "outputs": [
    {
     "data": {
      "text/html": [
       "<div>\n",
       "<style scoped>\n",
       "    .dataframe tbody tr th:only-of-type {\n",
       "        vertical-align: middle;\n",
       "    }\n",
       "\n",
       "    .dataframe tbody tr th {\n",
       "        vertical-align: top;\n",
       "    }\n",
       "\n",
       "    .dataframe thead th {\n",
       "        text-align: right;\n",
       "    }\n",
       "</style>\n",
       "<table border=\"1\" class=\"dataframe\">\n",
       "  <thead>\n",
       "    <tr style=\"text-align: right;\">\n",
       "      <th></th>\n",
       "      <th>founded_on</th>\n",
       "      <th>founder_experience</th>\n",
       "      <th>total_funding_usd</th>\n",
       "      <th>num_funding_rounds</th>\n",
       "      <th>investors_count</th>\n",
       "      <th>last_funding_date</th>\n",
       "    </tr>\n",
       "  </thead>\n",
       "  <tbody>\n",
       "    <tr>\n",
       "      <th>count</th>\n",
       "      <td>15000</td>\n",
       "      <td>14250.000000</td>\n",
       "      <td>1.500000e+04</td>\n",
       "      <td>15000.000000</td>\n",
       "      <td>15000.000000</td>\n",
       "      <td>14250</td>\n",
       "    </tr>\n",
       "    <tr>\n",
       "      <th>mean</th>\n",
       "      <td>2016-07-07 20:19:35.039999744</td>\n",
       "      <td>4.556842</td>\n",
       "      <td>1.896965e+07</td>\n",
       "      <td>2.743733</td>\n",
       "      <td>4.380667</td>\n",
       "      <td>2021-04-22 03:36:33.347368704</td>\n",
       "    </tr>\n",
       "    <tr>\n",
       "      <th>min</th>\n",
       "      <td>2010-01-01 00:00:00</td>\n",
       "      <td>0.000000</td>\n",
       "      <td>1.000000e+06</td>\n",
       "      <td>1.000000</td>\n",
       "      <td>1.000000</td>\n",
       "      <td>2011-02-27 00:00:00</td>\n",
       "    </tr>\n",
       "    <tr>\n",
       "      <th>25%</th>\n",
       "      <td>2013-04-05 18:00:00</td>\n",
       "      <td>1.000000</td>\n",
       "      <td>1.253781e+07</td>\n",
       "      <td>1.000000</td>\n",
       "      <td>3.000000</td>\n",
       "      <td>2018-08-20 00:00:00</td>\n",
       "    </tr>\n",
       "    <tr>\n",
       "      <th>50%</th>\n",
       "      <td>2016-07-15 00:00:00</td>\n",
       "      <td>3.000000</td>\n",
       "      <td>1.748513e+07</td>\n",
       "      <td>2.000000</td>\n",
       "      <td>4.000000</td>\n",
       "      <td>2021-12-10 00:00:00</td>\n",
       "    </tr>\n",
       "    <tr>\n",
       "      <th>75%</th>\n",
       "      <td>2019-10-15 00:00:00</td>\n",
       "      <td>6.000000</td>\n",
       "      <td>2.403478e+07</td>\n",
       "      <td>4.000000</td>\n",
       "      <td>6.000000</td>\n",
       "      <td>2025-03-31 00:00:00</td>\n",
       "    </tr>\n",
       "    <tr>\n",
       "      <th>max</th>\n",
       "      <td>2022-12-31 00:00:00</td>\n",
       "      <td>50.000000</td>\n",
       "      <td>6.034886e+07</td>\n",
       "      <td>8.000000</td>\n",
       "      <td>14.000000</td>\n",
       "      <td>2025-03-31 00:00:00</td>\n",
       "    </tr>\n",
       "    <tr>\n",
       "      <th>std</th>\n",
       "      <td>NaN</td>\n",
       "      <td>5.043821</td>\n",
       "      <td>8.661523e+06</td>\n",
       "      <td>1.838555</td>\n",
       "      <td>1.934910</td>\n",
       "      <td>NaN</td>\n",
       "    </tr>\n",
       "  </tbody>\n",
       "</table>\n",
       "</div>"
      ],
      "text/plain": [
       "                          founded_on  founder_experience  total_funding_usd  \\\n",
       "count                          15000        14250.000000       1.500000e+04   \n",
       "mean   2016-07-07 20:19:35.039999744            4.556842       1.896965e+07   \n",
       "min              2010-01-01 00:00:00            0.000000       1.000000e+06   \n",
       "25%              2013-04-05 18:00:00            1.000000       1.253781e+07   \n",
       "50%              2016-07-15 00:00:00            3.000000       1.748513e+07   \n",
       "75%              2019-10-15 00:00:00            6.000000       2.403478e+07   \n",
       "max              2022-12-31 00:00:00           50.000000       6.034886e+07   \n",
       "std                              NaN            5.043821       8.661523e+06   \n",
       "\n",
       "       num_funding_rounds  investors_count              last_funding_date  \n",
       "count        15000.000000     15000.000000                          14250  \n",
       "mean             2.743733         4.380667  2021-04-22 03:36:33.347368704  \n",
       "min              1.000000         1.000000            2011-02-27 00:00:00  \n",
       "25%              1.000000         3.000000            2018-08-20 00:00:00  \n",
       "50%              2.000000         4.000000            2021-12-10 00:00:00  \n",
       "75%              4.000000         6.000000            2025-03-31 00:00:00  \n",
       "max              8.000000        14.000000            2025-03-31 00:00:00  \n",
       "std              1.838555         1.934910                            NaN  "
      ]
     },
     "execution_count": 10,
     "metadata": {},
     "output_type": "execute_result"
    }
   ],
   "source": [
    "df.describe()"
   ]
  },
  {
   "cell_type": "code",
   "execution_count": 12,
   "id": "987b964b-8a8b-4228-ae22-d08271df36bd",
   "metadata": {},
   "outputs": [
    {
     "data": {
      "text/plain": [
       "company_name            0\n",
       "founded_on              0\n",
       "industry              750\n",
       "headquarters            0\n",
       "founder_experience    750\n",
       "total_funding_usd       0\n",
       "num_funding_rounds      0\n",
       "investors_count         0\n",
       "last_funding_date     750\n",
       "status                  0\n",
       "dtype: int64"
      ]
     },
     "execution_count": 12,
     "metadata": {},
     "output_type": "execute_result"
    }
   ],
   "source": [
    "df.isnull().sum()"
   ]
  },
  {
   "cell_type": "code",
   "execution_count": 18,
   "id": "68b5ace6-aa69-4a07-b2ce-70251125ecb2",
   "metadata": {},
   "outputs": [
    {
     "data": {
      "text/plain": [
       "<Axes: xlabel='num_funding_rounds', ylabel='total_funding_usd'>"
      ]
     },
     "execution_count": 18,
     "metadata": {},
     "output_type": "execute_result"
    },
    {
     "data": {
      "image/png": "[encoded data removed]",
      "text/plain": [
       "<Figure size 640x480 with 1 Axes>"
      ]
     },
     "metadata": {},
     "output_type": "display_data"
    }
   ],
   "source": [
    "df.plot(x='num_funding_rounds',y='total_funding_usd', kind='scatter')"
   ]
  },
  {
   "cell_type": "code",
   "execution_count": 23,
   "id": "f0058139-6e2e-4ea2-bd87-b2bf86e0f54e",
   "metadata": {},
   "outputs": [
    {
     "data": {
      "text/plain": [
       "3.0"
      ]
     },
     "execution_count": 23,
     "metadata": {},
     "output_type": "execute_result"
    }
   ],
   "source": [
    "df['founder_experience'].median()"
   ]
  },
  {
   "cell_type": "code",
   "execution_count": 26,
   "id": "e5672949-bfdc-448a-bfc9-c55677d52bd0",
   "metadata": {},
   "outputs": [],
   "source": [
    "df['founder_experience'].fillna(df['founder_experience'].median(), inplace=True)"
   ]
  },
  {
   "cell_type": "code",
   "execution_count": 29,
   "id": "c2effdba-f411-4a91-807f-1a4ff040ba7c",
   "metadata": {},
   "outputs": [
    {
     "name": "stdout",
     "output_type": "stream",
     "text": [
      "<class 'pandas.core.frame.DataFrame'>\n",
      "RangeIndex: 15000 entries, 0 to 14999\n",
      "Data columns (total 10 columns):\n",
      " #   Column              Non-Null Count  Dtype         \n",
      "---  ------              --------------  -----         \n",
      " 0   company_name        15000 non-null  object        \n",
      " 1   founded_on          15000 non-null  datetime64[ns]\n",
      " 2   industry            14250 non-null  object        \n",
      " 3   headquarters        15000 non-null  object        \n",
      " 4   founder_experience  15000 non-null  float64       \n",
      " 5   total_funding_usd   15000 non-null  int64         \n",
      " 6   num_funding_rounds  15000 non-null  int64         \n",
      " 7   investors_count     15000 non-null  int64         \n",
      " 8   last_funding_date   14250 non-null  datetime64[ns]\n",
      " 9   status              15000 non-null  object        \n",
      "dtypes: datetime64[ns](2), float64(1), int64(3), object(4)\n",
      "memory usage: 1.1+ MB\n"
     ]
    }
   ],
   "source": [
    "df.info()"
   ]
  },
  {
   "cell_type": "code",
   "execution_count": 35,
   "id": "77b2de88-b96d-46f7-aeef-aa6ac9fbabc1",
   "metadata": {},
   "outputs": [
    {
     "data": {
      "text/plain": [
       "<Axes: >"
      ]
     },
     "execution_count": 35,
     "metadata": {},
     "output_type": "execute_result"
    },
    {
     "data": {
      "image/png": "[encoded data removed]",
      "text/plain": [
       "<Figure size 640x480 with 1 Axes>"
      ]
     },
     "metadata": {},
     "output_type": "display_data"
    }
   ],
   "source": [
    "df['founder_experience'].plot(kind='box')"
   ]
  },
  {
   "cell_type": "code",
   "execution_count": 59,
   "id": "2f3533b6-1cfa-4e6b-b2e9-0fd3b8990e20",
   "metadata": {},
   "outputs": [
    {
     "data": {
      "text/plain": [
       "<Axes: >"
      ]
     },
     "execution_count": 59,
     "metadata": {},
     "output_type": "execute_result"
    },
    {
     "data": {
      "image/png": "[encoded data removed]",
      "text/plain": [
       "<Figure size 640x480 with 1 Axes>"
      ]
     },
     "metadata": {},
     "output_type": "display_data"
    }
   ],
   "source": [
    "df['total_funding_usd'].plot(kind='box')"
   ]
  },
  {
   "cell_type": "code",
   "execution_count": 49,
   "id": "f88057bf-217d-47f4-9684-53f71212e334",
   "metadata": {},
   "outputs": [],
   "source": [
    "df.dropna(subset=['last_funding_date'], inplace=True)"
   ]
  },
  {
   "cell_type": "code",
   "execution_count": 50,
   "id": "ae1bfe1f-82b9-43d7-ad25-e5aee121694d",
   "metadata": {},
   "outputs": [
    {
     "data": {
      "text/plain": [
       "0       2014-08-24\n",
       "1       2017-05-27\n",
       "2       2024-06-08\n",
       "3       2025-03-31\n",
       "4       2020-01-10\n",
       "           ...    \n",
       "14994   2024-07-26\n",
       "14995   2023-07-17\n",
       "14997   2020-11-07\n",
       "14998   2018-10-09\n",
       "14999   2018-07-23\n",
       "Name: last_funding_date, Length: 14250, dtype: datetime64[ns]"
      ]
     },
     "execution_count": 50,
     "metadata": {},
     "output_type": "execute_result"
    }
   ],
   "source": [
    "df['last_funding_date']"
   ]
  },
  {
   "cell_type": "code",
   "execution_count": 51,
   "id": "6babdfc0-8b5d-434e-88c5-c1e98ba2ac89",
   "metadata": {},
   "outputs": [
    {
     "name": "stdout",
     "output_type": "stream",
     "text": [
      "<class 'pandas.core.frame.DataFrame'>\n",
      "Index: 14250 entries, 0 to 14999\n",
      "Data columns (total 10 columns):\n",
      " #   Column              Non-Null Count  Dtype         \n",
      "---  ------              --------------  -----         \n",
      " 0   company_name        14250 non-null  object        \n",
      " 1   founded_on          14250 non-null  datetime64[ns]\n",
      " 2   industry            13539 non-null  object        \n",
      " 3   headquarters        14250 non-null  object        \n",
      " 4   founder_experience  14250 non-null  float64       \n",
      " 5   total_funding_usd   14250 non-null  int64         \n",
      " 6   num_funding_rounds  14250 non-null  int64         \n",
      " 7   investors_count     14250 non-null  int64         \n",
      " 8   last_funding_date   14250 non-null  datetime64[ns]\n",
      " 9   status              14250 non-null  object        \n",
      "dtypes: datetime64[ns](2), float64(1), int64(3), object(4)\n",
      "memory usage: 1.2+ MB\n"
     ]
    }
   ],
   "source": [
    "df.info()"
   ]
  },
  {
   "cell_type": "code",
   "execution_count": 54,
   "id": "7409b5fd-4fe3-4023-a3a0-87085db77b58",
   "metadata": {},
   "outputs": [],
   "source": [
    "df['industry'] = df['industry'].fillna(df['industry'].mode()[0])"
   ]
  },
  {
   "cell_type": "code",
   "execution_count": 55,
   "id": "d4877055-e4c2-44d3-9dee-3932de30d619",
   "metadata": {},
   "outputs": [
    {
     "name": "stdout",
     "output_type": "stream",
     "text": [
      "<class 'pandas.core.frame.DataFrame'>\n",
      "Index: 14250 entries, 0 to 14999\n",
      "Data columns (total 10 columns):\n",
      " #   Column              Non-Null Count  Dtype         \n",
      "---  ------              --------------  -----         \n",
      " 0   company_name        14250 non-null  object        \n",
      " 1   founded_on          14250 non-null  datetime64[ns]\n",
      " 2   industry            14250 non-null  object        \n",
      " 3   headquarters        14250 non-null  object        \n",
      " 4   founder_experience  14250 non-null  float64       \n",
      " 5   total_funding_usd   14250 non-null  int64         \n",
      " 6   num_funding_rounds  14250 non-null  int64         \n",
      " 7   investors_count     14250 non-null  int64         \n",
      " 8   last_funding_date   14250 non-null  datetime64[ns]\n",
      " 9   status              14250 non-null  object        \n",
      "dtypes: datetime64[ns](2), float64(1), int64(3), object(4)\n",
      "memory usage: 1.2+ MB\n"
     ]
    }
   ],
   "source": [
    "df.info()"
   ]
  },
  {
   "cell_type": "code",
   "execution_count": 56,
   "id": "8e285f42-3059-43c1-aa49-832c1403872e",
   "metadata": {},
   "outputs": [
    {
     "data": {
      "text/html": [
       "<div>\n",
       "<style scoped>\n",
       "    .dataframe tbody tr th:only-of-type {\n",
       "        vertical-align: middle;\n",
       "    }\n",
       "\n",
       "    .dataframe tbody tr th {\n",
       "        vertical-align: top;\n",
       "    }\n",
       "\n",
       "    .dataframe thead th {\n",
       "        text-align: right;\n",
       "    }\n",
       "</style>\n",
       "<table border=\"1\" class=\"dataframe\">\n",
       "  <thead>\n",
       "    <tr style=\"text-align: right;\">\n",
       "      <th></th>\n",
       "      <th>company_name</th>\n",
       "      <th>founded_on</th>\n",
       "      <th>industry</th>\n",
       "      <th>headquarters</th>\n",
       "      <th>founder_experience</th>\n",
       "      <th>total_funding_usd</th>\n",
       "      <th>num_funding_rounds</th>\n",
       "      <th>investors_count</th>\n",
       "      <th>last_funding_date</th>\n",
       "    </tr>\n",
       "  </thead>\n",
       "  <tbody>\n",
       "    <tr>\n",
       "      <th>0</th>\n",
       "      <td>Murillo Inc</td>\n",
       "      <td>2013-04-03</td>\n",
       "      <td>FinTech</td>\n",
       "      <td>India</td>\n",
       "      <td>4.0</td>\n",
       "      <td>22727307</td>\n",
       "      <td>1</td>\n",
       "      <td>3</td>\n",
       "      <td>2014-08-24</td>\n",
       "    </tr>\n",
       "    <tr>\n",
       "      <th>1</th>\n",
       "      <td>Reed-Gutierrez</td>\n",
       "      <td>2012-08-22</td>\n",
       "      <td>E-Commerce</td>\n",
       "      <td>US</td>\n",
       "      <td>5.0</td>\n",
       "      <td>16863728</td>\n",
       "      <td>2</td>\n",
       "      <td>2</td>\n",
       "      <td>2017-05-27</td>\n",
       "    </tr>\n",
       "    <tr>\n",
       "      <th>2</th>\n",
       "      <td>Nelson, Ferguson and Martin</td>\n",
       "      <td>2016-01-17</td>\n",
       "      <td>FinTech</td>\n",
       "      <td>Singapore</td>\n",
       "      <td>1.0</td>\n",
       "      <td>20044891</td>\n",
       "      <td>1</td>\n",
       "      <td>3</td>\n",
       "      <td>2024-06-08</td>\n",
       "    </tr>\n",
       "    <tr>\n",
       "      <th>3</th>\n",
       "      <td>Morgan, Perry and Jones</td>\n",
       "      <td>2017-08-18</td>\n",
       "      <td>HealthTech</td>\n",
       "      <td>Germany</td>\n",
       "      <td>0.0</td>\n",
       "      <td>22085995</td>\n",
       "      <td>8</td>\n",
       "      <td>5</td>\n",
       "      <td>2025-03-31</td>\n",
       "    </tr>\n",
       "    <tr>\n",
       "      <th>4</th>\n",
       "      <td>Cruz Ltd</td>\n",
       "      <td>2018-05-22</td>\n",
       "      <td>AI</td>\n",
       "      <td>US</td>\n",
       "      <td>2.0</td>\n",
       "      <td>26935126</td>\n",
       "      <td>5</td>\n",
       "      <td>6</td>\n",
       "      <td>2020-01-10</td>\n",
       "    </tr>\n",
       "  </tbody>\n",
       "</table>\n",
       "</div>"
      ],
      "text/plain": [
       "                  company_name founded_on    industry headquarters  \\\n",
       "0                  Murillo Inc 2013-04-03     FinTech        India   \n",
       "1               Reed-Gutierrez 2012-08-22  E-Commerce           US   \n",
       "2  Nelson, Ferguson and Martin 2016-01-17     FinTech    Singapore   \n",
       "3      Morgan, Perry and Jones 2017-08-18  HealthTech      Germany   \n",
       "4                     Cruz Ltd 2018-05-22          AI           US   \n",
       "\n",
       "   founder_experience  total_funding_usd  num_funding_rounds  investors_count  \\\n",
       "0                 4.0           22727307                   1                3   \n",
       "1                 5.0           16863728                   2                2   \n",
       "2                 1.0           20044891                   1                3   \n",
       "3                 0.0           22085995                   8                5   \n",
       "4                 2.0           26935126                   5                6   \n",
       "\n",
       "  last_funding_date  \n",
       "0        2014-08-24  \n",
       "1        2017-05-27  \n",
       "2        2024-06-08  \n",
       "3        2025-03-31  \n",
       "4        2020-01-10  "
      ]
     },
     "execution_count": 56,
     "metadata": {},
     "output_type": "execute_result"
    }
   ],
   "source": [
    "X = df.drop('status', axis=1).copy()\n",
    "X.head()"
   ]
  },
  {
   "cell_type": "code",
   "execution_count": 58,
   "id": "cf39335e-eaa5-4047-b562-5fe01cfec13b",
   "metadata": {},
   "outputs": [
    {
     "data": {
      "text/plain": [
       "0       fail\n",
       "1    success\n",
       "2       fail\n",
       "3       fail\n",
       "4    success\n",
       "Name: status, dtype: object"
      ]
     },
     "execution_count": 58,
     "metadata": {},
     "output_type": "execute_result"
    }
   ],
   "source": [
    "y = df['status'].copy()\n",
    "y.head()"
   ]
  },
  {
   "cell_type": "code",
   "execution_count": null,
   "id": "e69ee0b6-7359-4c77-97a6-a2732a3fc71f",
   "metadata": {},
   "outputs": [],
   "source": []
  }
 ],
 "metadata": {
  "kernelspec": {
   "display_name": "Python 3 (ipykernel)",
   "language": "python",
   "name": "python3"
  },
  "language_info": {
   "codemirror_mode": {
    "name": "ipython",
    "version": 3
   },
   "file_extension": ".py",
   "mimetype": "text/x-python",
   "name": "python",
   "nbconvert_exporter": "python",
   "pygments_lexer": "ipython3",
   "version": "3.11.7"
  }
 },
 "nbformat": 4,
 "nbformat_minor": 5
}
