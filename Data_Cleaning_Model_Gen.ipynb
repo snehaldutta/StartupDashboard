{
 "cells": [
  {
   "cell_type": "code",
   "execution_count": 1,
   "id": "19cb5a63-caae-47e7-994d-ff518fc543f2",
   "metadata": {},
   "outputs": [],
   "source": [
    "# pip install import-ipynb"
   ]
  },
  {
   "cell_type": "code",
   "execution_count": 3,
   "id": "533a78f6-4bb7-4295-baed-b21306b46054",
   "metadata": {},
   "outputs": [],
   "source": [
    "import import_ipynb\n",
    "from Data_Generation import csvBuilder"
   ]
  },
  {
   "cell_type": "code",
   "execution_count": null,
   "id": "29a2659c-2372-4dab-a153-81a90b452d51",
   "metadata": {},
   "outputs": [],
   "source": []
  }
 ],
 "metadata": {
  "kernelspec": {
   "display_name": "Python 3 (ipykernel)",
   "language": "python",
   "name": "python3"
  },
  "language_info": {
   "codemirror_mode": {
    "name": "ipython",
    "version": 3
   },
   "file_extension": ".py",
   "mimetype": "text/x-python",
   "name": "python",
   "nbconvert_exporter": "python",
   "pygments_lexer": "ipython3",
   "version": "3.11.7"
  }
 },
 "nbformat": 4,
 "nbformat_minor": 5
}
