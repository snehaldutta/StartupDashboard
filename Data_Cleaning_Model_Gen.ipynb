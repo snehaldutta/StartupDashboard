{
 "cells": [
  {
   "cell_type": "markdown",
   "id": "00c2c30a-72aa-415b-9dd5-f7b6df85518d",
   "metadata": {},
   "source": [
    "## Importing Libraries ##"
   ]
  },
  {
   "cell_type": "code",
   "execution_count": 1,
   "id": "19cb5a63-caae-47e7-994d-ff518fc543f2",
   "metadata": {},
   "outputs": [],
   "source": [
    "# pip install import-ipynb"
   ]
  },
  {
   "cell_type": "code",
   "execution_count": 2,
   "id": "6445d886-c97e-47b1-ac0a-951d232e42f5",
   "metadata": {},
   "outputs": [],
   "source": [
    "# pip install pyyaml"
   ]
  },
  {
   "cell_type": "code",
   "execution_count": 63,
   "id": "533a78f6-4bb7-4295-baed-b21306b46054",
   "metadata": {},
   "outputs": [],
   "source": [
    "import import_ipynb\n",
    "from Data_Generation import csvBuilder\n",
    "import numpy as np\n",
    "import yaml\n",
    "from sklearn.metrics import accuracy_score\n",
    "from sklearn.ensemble import RandomForestClassifier\n",
    "from sklearn.model_selection import train_test_split, cross_val_score, StratifiedKFold\n",
    "from sklearn.preprocessing import OneHotEncoder, StandardScaler\n",
    "from sklearn.compose import ColumnTransformer\n",
    "from sklearn.pipeline import Pipeline as Sklp\n",
    "import joblib\n",
    "import os"
   ]
  },
  {
   "cell_type": "markdown",
   "id": "4c826e13-2748-4195-b4c7-6ca3a18be07d",
   "metadata": {},
   "source": [
    "## Data initialization ##"
   ]
  },
  {
   "cell_type": "code",
   "execution_count": 4,
   "id": "90d0f783-59e0-409f-987c-e0ef786e6291",
   "metadata": {},
   "outputs": [],
   "source": [
    "n = 15000\n",
    "\n",
    "industries = ['FinTech', 'HealthTech', 'E-Commerce', 'AI', 'EdTech', 'SaaS', 'Gaming', 'Biotech']\n",
    "industry_probs = [0.15, 0.12, 0.2, 0.18, 0.1, 0.1, 0.08, 0.07]\n",
    "\n",
    "countries = ['US', 'India', 'UK', 'Germany', 'Canada', 'Israel', 'Singapore']\n",
    "country_probs = [0.4, 0.2, 0.1, 0.08, 0.08, 0.07, 0.07]\n",
    "\n",
    "funding_means = {\n",
    "    'FinTech': 18_000_000,\n",
    "    'HealthTech': 15_000_000,\n",
    "    'E-Commerce': 12_000_000,\n",
    "    'AI': 22_000_000,\n",
    "    'EdTech': 8_000_000,\n",
    "    'SaaS': 14_000_000,\n",
    "    'Gaming': 10_000_000,\n",
    "    'Biotech': 25_000_000\n",
    "}"
   ]
  },
  {
   "cell_type": "code",
   "execution_count": 5,
   "id": "ee4b7a6d-ac2d-47a0-81d3-76de39f5f841",
   "metadata": {},
   "outputs": [],
   "source": [
    "data = csvBuilder(n,industries,industry_probs,countries,country_probs,funding_means)"
   ]
  },
  {
   "cell_type": "code",
   "execution_count": 6,
   "id": "2b7f8be4-2e45-493e-8b39-94027df3d17a",
   "metadata": {},
   "outputs": [],
   "source": [
    "df = data.generate()"
   ]
  },
  {
   "cell_type": "markdown",
   "id": "67c76e20-cd47-49f2-ab2b-e1211e94f0a2",
   "metadata": {},
   "source": [
    "## Data Exploration begins !!! EDA ##"
   ]
  },
  {
   "cell_type": "code",
   "execution_count": 7,
   "id": "f68f4c63-0f62-48e2-98b8-fef116b385ac",
   "metadata": {},
   "outputs": [
    {
     "data": {
      "text/html": [
       "<div>\n",
       "<style scoped>\n",
       "    .dataframe tbody tr th:only-of-type {\n",
       "        vertical-align: middle;\n",
       "    }\n",
       "\n",
       "    .dataframe tbody tr th {\n",
       "        vertical-align: top;\n",
       "    }\n",
       "\n",
       "    .dataframe thead th {\n",
       "        text-align: right;\n",
       "    }\n",
       "</style>\n",
       "<table border=\"1\" class=\"dataframe\">\n",
       "  <thead>\n",
       "    <tr style=\"text-align: right;\">\n",
       "      <th></th>\n",
       "      <th>company_name</th>\n",
       "      <th>founded_on</th>\n",
       "      <th>industry</th>\n",
       "      <th>headquarters</th>\n",
       "      <th>founder_experience</th>\n",
       "      <th>total_funding_usd</th>\n",
       "      <th>num_funding_rounds</th>\n",
       "      <th>investors_count</th>\n",
       "      <th>last_funding_date</th>\n",
       "      <th>status</th>\n",
       "    </tr>\n",
       "  </thead>\n",
       "  <tbody>\n",
       "    <tr>\n",
       "      <th>0</th>\n",
       "      <td>Higgins Ltd</td>\n",
       "      <td>2012-05-10</td>\n",
       "      <td>AI</td>\n",
       "      <td>Germany</td>\n",
       "      <td>1.0</td>\n",
       "      <td>23084966</td>\n",
       "      <td>2</td>\n",
       "      <td>5</td>\n",
       "      <td>2018-04-06</td>\n",
       "      <td>fail</td>\n",
       "    </tr>\n",
       "    <tr>\n",
       "      <th>1</th>\n",
       "      <td>Vang-Lambert</td>\n",
       "      <td>2020-04-30</td>\n",
       "      <td>HealthTech</td>\n",
       "      <td>US</td>\n",
       "      <td>6.0</td>\n",
       "      <td>17165649</td>\n",
       "      <td>2</td>\n",
       "      <td>2</td>\n",
       "      <td>2021-10-23</td>\n",
       "      <td>fail</td>\n",
       "    </tr>\n",
       "    <tr>\n",
       "      <th>2</th>\n",
       "      <td>Castro-Chavez</td>\n",
       "      <td>2018-06-20</td>\n",
       "      <td>Gaming</td>\n",
       "      <td>India</td>\n",
       "      <td>1.0</td>\n",
       "      <td>4997894</td>\n",
       "      <td>3</td>\n",
       "      <td>7</td>\n",
       "      <td>2020-08-04</td>\n",
       "      <td>fail</td>\n",
       "    </tr>\n",
       "  </tbody>\n",
       "</table>\n",
       "</div>"
      ],
      "text/plain": [
       "    company_name founded_on    industry headquarters  founder_experience  \\\n",
       "0    Higgins Ltd 2012-05-10          AI      Germany                 1.0   \n",
       "1   Vang-Lambert 2020-04-30  HealthTech           US                 6.0   \n",
       "2  Castro-Chavez 2018-06-20      Gaming        India                 1.0   \n",
       "\n",
       "   total_funding_usd  num_funding_rounds  investors_count last_funding_date  \\\n",
       "0           23084966                   2                5        2018-04-06   \n",
       "1           17165649                   2                2        2021-10-23   \n",
       "2            4997894                   3                7        2020-08-04   \n",
       "\n",
       "  status  \n",
       "0   fail  \n",
       "1   fail  \n",
       "2   fail  "
      ]
     },
     "execution_count": 7,
     "metadata": {},
     "output_type": "execute_result"
    }
   ],
   "source": [
    "df.head(3)"
   ]
  },
  {
   "cell_type": "code",
   "execution_count": 8,
   "id": "c2a7c2c8-93a7-4069-89d3-c2364abf90ca",
   "metadata": {},
   "outputs": [
    {
     "name": "stdout",
     "output_type": "stream",
     "text": [
      "<class 'pandas.core.frame.DataFrame'>\n",
      "RangeIndex: 15000 entries, 0 to 14999\n",
      "Data columns (total 10 columns):\n",
      " #   Column              Non-Null Count  Dtype         \n",
      "---  ------              --------------  -----         \n",
      " 0   company_name        15000 non-null  object        \n",
      " 1   founded_on          15000 non-null  datetime64[ns]\n",
      " 2   industry            14250 non-null  object        \n",
      " 3   headquarters        15000 non-null  object        \n",
      " 4   founder_experience  14250 non-null  float64       \n",
      " 5   total_funding_usd   15000 non-null  int64         \n",
      " 6   num_funding_rounds  15000 non-null  int64         \n",
      " 7   investors_count     15000 non-null  int64         \n",
      " 8   last_funding_date   14250 non-null  datetime64[ns]\n",
      " 9   status              15000 non-null  object        \n",
      "dtypes: datetime64[ns](2), float64(1), int64(3), object(4)\n",
      "memory usage: 1.1+ MB\n"
     ]
    }
   ],
   "source": [
    "df.info()"
   ]
  },
  {
   "cell_type": "code",
   "execution_count": 9,
   "id": "f8c5247a-b3b8-4639-b6a2-be03b1ddf86a",
   "metadata": {},
   "outputs": [
    {
     "data": {
      "text/html": [
       "<div>\n",
       "<style scoped>\n",
       "    .dataframe tbody tr th:only-of-type {\n",
       "        vertical-align: middle;\n",
       "    }\n",
       "\n",
       "    .dataframe tbody tr th {\n",
       "        vertical-align: top;\n",
       "    }\n",
       "\n",
       "    .dataframe thead th {\n",
       "        text-align: right;\n",
       "    }\n",
       "</style>\n",
       "<table border=\"1\" class=\"dataframe\">\n",
       "  <thead>\n",
       "    <tr style=\"text-align: right;\">\n",
       "      <th></th>\n",
       "      <th>founded_on</th>\n",
       "      <th>founder_experience</th>\n",
       "      <th>total_funding_usd</th>\n",
       "      <th>num_funding_rounds</th>\n",
       "      <th>investors_count</th>\n",
       "      <th>last_funding_date</th>\n",
       "    </tr>\n",
       "  </thead>\n",
       "  <tbody>\n",
       "    <tr>\n",
       "      <th>count</th>\n",
       "      <td>15000</td>\n",
       "      <td>14250.000000</td>\n",
       "      <td>1.500000e+04</td>\n",
       "      <td>15000.000000</td>\n",
       "      <td>15000.000000</td>\n",
       "      <td>14250</td>\n",
       "    </tr>\n",
       "    <tr>\n",
       "      <th>mean</th>\n",
       "      <td>2016-06-26 15:58:04.800000</td>\n",
       "      <td>4.500772</td>\n",
       "      <td>1.900127e+07</td>\n",
       "      <td>2.756733</td>\n",
       "      <td>4.401400</td>\n",
       "      <td>2021-04-20 23:52:01.010526464</td>\n",
       "    </tr>\n",
       "    <tr>\n",
       "      <th>min</th>\n",
       "      <td>2010-01-01 00:00:00</td>\n",
       "      <td>0.000000</td>\n",
       "      <td>1.000000e+06</td>\n",
       "      <td>1.000000</td>\n",
       "      <td>1.000000</td>\n",
       "      <td>2011-01-26 00:00:00</td>\n",
       "    </tr>\n",
       "    <tr>\n",
       "      <th>25%</th>\n",
       "      <td>2013-03-27 18:00:00</td>\n",
       "      <td>1.000000</td>\n",
       "      <td>1.254070e+07</td>\n",
       "      <td>1.000000</td>\n",
       "      <td>3.000000</td>\n",
       "      <td>2018-08-01 00:00:00</td>\n",
       "    </tr>\n",
       "    <tr>\n",
       "      <th>50%</th>\n",
       "      <td>2016-07-04 00:00:00</td>\n",
       "      <td>3.000000</td>\n",
       "      <td>1.744742e+07</td>\n",
       "      <td>2.000000</td>\n",
       "      <td>4.000000</td>\n",
       "      <td>2021-12-21 00:00:00</td>\n",
       "    </tr>\n",
       "    <tr>\n",
       "      <th>75%</th>\n",
       "      <td>2019-09-17 06:00:00</td>\n",
       "      <td>6.000000</td>\n",
       "      <td>2.404204e+07</td>\n",
       "      <td>4.000000</td>\n",
       "      <td>6.000000</td>\n",
       "      <td>2025-03-31 00:00:00</td>\n",
       "    </tr>\n",
       "    <tr>\n",
       "      <th>max</th>\n",
       "      <td>2022-12-31 00:00:00</td>\n",
       "      <td>52.000000</td>\n",
       "      <td>5.836008e+07</td>\n",
       "      <td>8.000000</td>\n",
       "      <td>14.000000</td>\n",
       "      <td>2025-03-31 00:00:00</td>\n",
       "    </tr>\n",
       "    <tr>\n",
       "      <th>std</th>\n",
       "      <td>NaN</td>\n",
       "      <td>4.962874</td>\n",
       "      <td>8.660813e+06</td>\n",
       "      <td>1.836349</td>\n",
       "      <td>1.941613</td>\n",
       "      <td>NaN</td>\n",
       "    </tr>\n",
       "  </tbody>\n",
       "</table>\n",
       "</div>"
      ],
      "text/plain": [
       "                       founded_on  founder_experience  total_funding_usd  \\\n",
       "count                       15000        14250.000000       1.500000e+04   \n",
       "mean   2016-06-26 15:58:04.800000            4.500772       1.900127e+07   \n",
       "min           2010-01-01 00:00:00            0.000000       1.000000e+06   \n",
       "25%           2013-03-27 18:00:00            1.000000       1.254070e+07   \n",
       "50%           2016-07-04 00:00:00            3.000000       1.744742e+07   \n",
       "75%           2019-09-17 06:00:00            6.000000       2.404204e+07   \n",
       "max           2022-12-31 00:00:00           52.000000       5.836008e+07   \n",
       "std                           NaN            4.962874       8.660813e+06   \n",
       "\n",
       "       num_funding_rounds  investors_count              last_funding_date  \n",
       "count        15000.000000     15000.000000                          14250  \n",
       "mean             2.756733         4.401400  2021-04-20 23:52:01.010526464  \n",
       "min              1.000000         1.000000            2011-01-26 00:00:00  \n",
       "25%              1.000000         3.000000            2018-08-01 00:00:00  \n",
       "50%              2.000000         4.000000            2021-12-21 00:00:00  \n",
       "75%              4.000000         6.000000            2025-03-31 00:00:00  \n",
       "max              8.000000        14.000000            2025-03-31 00:00:00  \n",
       "std              1.836349         1.941613                            NaN  "
      ]
     },
     "execution_count": 9,
     "metadata": {},
     "output_type": "execute_result"
    }
   ],
   "source": [
    "df.describe()"
   ]
  },
  {
   "cell_type": "code",
   "execution_count": 10,
   "id": "987b964b-8a8b-4228-ae22-d08271df36bd",
   "metadata": {},
   "outputs": [
    {
     "data": {
      "text/plain": [
       "company_name            0\n",
       "founded_on              0\n",
       "industry              750\n",
       "headquarters            0\n",
       "founder_experience    750\n",
       "total_funding_usd       0\n",
       "num_funding_rounds      0\n",
       "investors_count         0\n",
       "last_funding_date     750\n",
       "status                  0\n",
       "dtype: int64"
      ]
     },
     "execution_count": 10,
     "metadata": {},
     "output_type": "execute_result"
    }
   ],
   "source": [
    "df.isnull().sum()"
   ]
  },
  {
   "cell_type": "code",
   "execution_count": 11,
   "id": "68b5ace6-aa69-4a07-b2ce-70251125ecb2",
   "metadata": {},
   "outputs": [
    {
     "data": {
      "text/plain": [
       "<Axes: xlabel='num_funding_rounds', ylabel='total_funding_usd'>"
      ]
     },
     "execution_count": 11,
     "metadata": {},
     "output_type": "execute_result"
    },
    {
     "data": {
      "image/png": "[encoded data removed]",
      "text/plain": [
       "<Figure size 640x480 with 1 Axes>"
      ]
     },
     "metadata": {},
     "output_type": "display_data"
    }
   ],
   "source": [
    "df.plot(x='num_funding_rounds',y='total_funding_usd', kind='scatter')"
   ]
  },
  {
   "cell_type": "code",
   "execution_count": 12,
   "id": "f0058139-6e2e-4ea2-bd87-b2bf86e0f54e",
   "metadata": {},
   "outputs": [
    {
     "data": {
      "text/plain": [
       "3.0"
      ]
     },
     "execution_count": 12,
     "metadata": {},
     "output_type": "execute_result"
    }
   ],
   "source": [
    "df['founder_experience'].median()"
   ]
  },
  {
   "cell_type": "code",
   "execution_count": 13,
   "id": "e5672949-bfdc-448a-bfc9-c55677d52bd0",
   "metadata": {},
   "outputs": [
    {
     "name": "stderr",
     "output_type": "stream",
     "text": [
      "/var/folders/0m/4hw6y0_118q535jgs9dp4h440000gn/T/ipykernel_51246/1299175883.py:1: FutureWarning: A value is trying to be set on a copy of a DataFrame or Series through chained assignment using an inplace method.\n",
      "The behavior will change in pandas 3.0. This inplace method will never work because the intermediate object on which we are setting values always behaves as a copy.\n",
      "\n",
      "For example, when doing 'df[col].method(value, inplace=True)', try using 'df.method({col: value}, inplace=True)' or df[col] = df[col].method(value) instead, to perform the operation inplace on the original object.\n",
      "\n",
      "\n",
      "  df['founder_experience'].fillna(df['founder_experience'].median(), inplace=True)\n"
     ]
    }
   ],
   "source": [
    "df['founder_experience'].fillna(df['founder_experience'].median(), inplace=True)"
   ]
  },
  {
   "cell_type": "code",
   "execution_count": 14,
   "id": "c2effdba-f411-4a91-807f-1a4ff040ba7c",
   "metadata": {},
   "outputs": [
    {
     "name": "stdout",
     "output_type": "stream",
     "text": [
      "<class 'pandas.core.frame.DataFrame'>\n",
      "RangeIndex: 15000 entries, 0 to 14999\n",
      "Data columns (total 10 columns):\n",
      " #   Column              Non-Null Count  Dtype         \n",
      "---  ------              --------------  -----         \n",
      " 0   company_name        15000 non-null  object        \n",
      " 1   founded_on          15000 non-null  datetime64[ns]\n",
      " 2   industry            14250 non-null  object        \n",
      " 3   headquarters        15000 non-null  object        \n",
      " 4   founder_experience  15000 non-null  float64       \n",
      " 5   total_funding_usd   15000 non-null  int64         \n",
      " 6   num_funding_rounds  15000 non-null  int64         \n",
      " 7   investors_count     15000 non-null  int64         \n",
      " 8   last_funding_date   14250 non-null  datetime64[ns]\n",
      " 9   status              15000 non-null  object        \n",
      "dtypes: datetime64[ns](2), float64(1), int64(3), object(4)\n",
      "memory usage: 1.1+ MB\n"
     ]
    }
   ],
   "source": [
    "df.info()"
   ]
  },
  {
   "cell_type": "code",
   "execution_count": 15,
   "id": "77b2de88-b96d-46f7-aeef-aa6ac9fbabc1",
   "metadata": {},
   "outputs": [
    {
     "data": {
      "text/plain": [
       "<Axes: >"
      ]
     },
     "execution_count": 15,
     "metadata": {},
     "output_type": "execute_result"
    },
    {
     "data": {
      "image/png": "[encoded data removed]",
      "text/plain": [
       "<Figure size 640x480 with 1 Axes>"
      ]
     },
     "metadata": {},
     "output_type": "display_data"
    }
   ],
   "source": [
    "df['founder_experience'].plot(kind='box')"
   ]
  },
  {
   "cell_type": "code",
   "execution_count": 16,
   "id": "2f3533b6-1cfa-4e6b-b2e9-0fd3b8990e20",
   "metadata": {},
   "outputs": [
    {
     "data": {
      "text/plain": [
       "<Axes: >"
      ]
     },
     "execution_count": 16,
     "metadata": {},
     "output_type": "execute_result"
    },
    {
     "data": {
      "image/png": "[encoded data removed]",
      "text/plain": [
       "<Figure size 640x480 with 1 Axes>"
      ]
     },
     "metadata": {},
     "output_type": "display_data"
    }
   ],
   "source": [
    "df['total_funding_usd'].plot(kind='box')"
   ]
  },
  {
   "cell_type": "code",
   "execution_count": 17,
   "id": "f88057bf-217d-47f4-9684-53f71212e334",
   "metadata": {},
   "outputs": [],
   "source": [
    "df.dropna(subset=['last_funding_date'], inplace=True)"
   ]
  },
  {
   "cell_type": "code",
   "execution_count": 18,
   "id": "ae1bfe1f-82b9-43d7-ad25-e5aee121694d",
   "metadata": {},
   "outputs": [
    {
     "data": {
      "text/plain": [
       "0       2018-04-06\n",
       "1       2021-10-23\n",
       "2       2020-08-04\n",
       "3       2012-11-24\n",
       "4       2025-03-31\n",
       "           ...    \n",
       "14994   2017-03-06\n",
       "14996   2021-01-16\n",
       "14997   2017-03-05\n",
       "14998   2022-03-06\n",
       "14999   2012-11-22\n",
       "Name: last_funding_date, Length: 14250, dtype: datetime64[ns]"
      ]
     },
     "execution_count": 18,
     "metadata": {},
     "output_type": "execute_result"
    }
   ],
   "source": [
    "df['last_funding_date']"
   ]
  },
  {
   "cell_type": "code",
   "execution_count": 19,
   "id": "6babdfc0-8b5d-434e-88c5-c1e98ba2ac89",
   "metadata": {},
   "outputs": [
    {
     "name": "stdout",
     "output_type": "stream",
     "text": [
      "<class 'pandas.core.frame.DataFrame'>\n",
      "Index: 14250 entries, 0 to 14999\n",
      "Data columns (total 10 columns):\n",
      " #   Column              Non-Null Count  Dtype         \n",
      "---  ------              --------------  -----         \n",
      " 0   company_name        14250 non-null  object        \n",
      " 1   founded_on          14250 non-null  datetime64[ns]\n",
      " 2   industry            13534 non-null  object        \n",
      " 3   headquarters        14250 non-null  object        \n",
      " 4   founder_experience  14250 non-null  float64       \n",
      " 5   total_funding_usd   14250 non-null  int64         \n",
      " 6   num_funding_rounds  14250 non-null  int64         \n",
      " 7   investors_count     14250 non-null  int64         \n",
      " 8   last_funding_date   14250 non-null  datetime64[ns]\n",
      " 9   status              14250 non-null  object        \n",
      "dtypes: datetime64[ns](2), float64(1), int64(3), object(4)\n",
      "memory usage: 1.2+ MB\n"
     ]
    }
   ],
   "source": [
    "df.info()"
   ]
  },
  {
   "cell_type": "code",
   "execution_count": 20,
   "id": "7409b5fd-4fe3-4023-a3a0-87085db77b58",
   "metadata": {},
   "outputs": [],
   "source": [
    "df['industry'] = df['industry'].fillna(df['industry'].mode()[0])"
   ]
  },
  {
   "cell_type": "code",
   "execution_count": 21,
   "id": "f7845c38-7b97-4511-a5dc-19c44bc34a65",
   "metadata": {},
   "outputs": [
    {
     "data": {
      "text/plain": [
       "<Axes: xlabel='industry', ylabel='total_funding_usd'>"
      ]
     },
     "execution_count": 21,
     "metadata": {},
     "output_type": "execute_result"
    },
    {
     "data": {
      "image/png": "[encoded data removed]",
      "text/plain": [
       "<Figure size 640x480 with 1 Axes>"
      ]
     },
     "metadata": {},
     "output_type": "display_data"
    }
   ],
   "source": [
    "df.plot(x='industry',y='total_funding_usd', kind='scatter')"
   ]
  },
  {
   "cell_type": "code",
   "execution_count": 22,
   "id": "d4877055-e4c2-44d3-9dee-3932de30d619",
   "metadata": {},
   "outputs": [
    {
     "name": "stdout",
     "output_type": "stream",
     "text": [
      "<class 'pandas.core.frame.DataFrame'>\n",
      "Index: 14250 entries, 0 to 14999\n",
      "Data columns (total 10 columns):\n",
      " #   Column              Non-Null Count  Dtype         \n",
      "---  ------              --------------  -----         \n",
      " 0   company_name        14250 non-null  object        \n",
      " 1   founded_on          14250 non-null  datetime64[ns]\n",
      " 2   industry            14250 non-null  object        \n",
      " 3   headquarters        14250 non-null  object        \n",
      " 4   founder_experience  14250 non-null  float64       \n",
      " 5   total_funding_usd   14250 non-null  int64         \n",
      " 6   num_funding_rounds  14250 non-null  int64         \n",
      " 7   investors_count     14250 non-null  int64         \n",
      " 8   last_funding_date   14250 non-null  datetime64[ns]\n",
      " 9   status              14250 non-null  object        \n",
      "dtypes: datetime64[ns](2), float64(1), int64(3), object(4)\n",
      "memory usage: 1.2+ MB\n"
     ]
    }
   ],
   "source": [
    "df.info()"
   ]
  },
  {
   "cell_type": "code",
   "execution_count": 23,
   "id": "1a030896-fa27-4cc8-8c3a-55107e0ea2c7",
   "metadata": {},
   "outputs": [
    {
     "data": {
      "text/plain": [
       "0"
      ]
     },
     "execution_count": 23,
     "metadata": {},
     "output_type": "execute_result"
    }
   ],
   "source": [
    "df.duplicated().sum()"
   ]
  },
  {
   "cell_type": "code",
   "execution_count": 24,
   "id": "56d3dc27-cf39-47af-b467-a2917a253cf8",
   "metadata": {},
   "outputs": [],
   "source": [
    "def find_outlier(columns):\n",
    "    for col in columns:\n",
    "        q1 = df[col].quantile(0.25)\n",
    "        q3 = df[col].quantile(0.75)\n",
    "        iqr = q3 - q1\n",
    "\n",
    "        lb = q1 - 1.5*iqr\n",
    "        ub = q3 + 1.5*iqr\n",
    "\n",
    "        outliers = (df[col]<lb )| (df[col]> ub)\n",
    "        num_outliers = outliers.sum()\n",
    "        total_data = df[col].count()\n",
    "\n",
    "        percent_outliers = (num_outliers*100)/total_data\n",
    "\n",
    "        print(f\"Column : {col}\\n\")\n",
    "        print(f\"Outlier count: {num_outliers}\")\n",
    "        print(f\"Total count (non-null): {total_data}\")\n",
    "        print(f\"Outlier percentage: {percent_outliers:.2f}%\\n\")"
   ]
  },
  {
   "cell_type": "code",
   "execution_count": 25,
   "id": "2e7fbcef-8914-48f7-aaa9-9c89da1d5a87",
   "metadata": {
    "scrolled": true
   },
   "outputs": [
    {
     "name": "stdout",
     "output_type": "stream",
     "text": [
      "Column : founder_experience\n",
      "\n",
      "Outlier count: 809\n",
      "Total count (non-null): 14250\n",
      "Outlier percentage: 5.68%\n",
      "\n",
      "Column : total_funding_usd\n",
      "\n",
      "Outlier count: 240\n",
      "Total count (non-null): 14250\n",
      "Outlier percentage: 1.68%\n",
      "\n",
      "Column : num_funding_rounds\n",
      "\n",
      "Outlier count: 0\n",
      "Total count (non-null): 14250\n",
      "Outlier percentage: 0.00%\n",
      "\n",
      "Column : investors_count\n",
      "\n",
      "Outlier count: 53\n",
      "Total count (non-null): 14250\n",
      "Outlier percentage: 0.37%\n",
      "\n"
     ]
    }
   ],
   "source": [
    "columns = ['founder_experience','total_funding_usd','num_funding_rounds','investors_count']\n",
    "outliers_detect = find_outlier(columns)"
   ]
  },
  {
   "cell_type": "markdown",
   "id": "760d7678-d5e8-4448-ad6d-c85cc683b863",
   "metadata": {},
   "source": [
    "## Data Preprocessing ##"
   ]
  },
  {
   "cell_type": "code",
   "execution_count": 26,
   "id": "c41a91b6-595e-4074-a14e-59bfbadde42a",
   "metadata": {},
   "outputs": [],
   "source": [
    "df['last_funding_year'] = df['last_funding_date'].dt.year\n",
    "df['last_funding_month'] = df['last_funding_date'].dt.month\n",
    "df['founded_year'] = df['founded_on'].dt.year"
   ]
  },
  {
   "cell_type": "code",
   "execution_count": 27,
   "id": "2174e9b9-df9b-4008-86f6-eed94cc1363c",
   "metadata": {},
   "outputs": [],
   "source": [
    "df.drop(['founded_on','last_funding_date'],axis=1,inplace=True)"
   ]
  },
  {
   "cell_type": "code",
   "execution_count": 28,
   "id": "e83d0b60-4ec4-485e-8be3-c5c087f75b3b",
   "metadata": {},
   "outputs": [],
   "source": [
    "df['last_funding_year'] = df['last_funding_year'] - df['last_funding_year'].min()"
   ]
  },
  {
   "cell_type": "code",
   "execution_count": 29,
   "id": "21ca5772-a7c9-4732-8d6d-7df485922489",
   "metadata": {},
   "outputs": [],
   "source": [
    "df['founded_year'] = df['founded_year'] - df['founded_year'].min()"
   ]
  },
  {
   "cell_type": "code",
   "execution_count": 30,
   "id": "3930f896-e2ae-4506-a5fb-143376fb9357",
   "metadata": {},
   "outputs": [
    {
     "data": {
      "text/html": [
       "<div>\n",
       "<style scoped>\n",
       "    .dataframe tbody tr th:only-of-type {\n",
       "        vertical-align: middle;\n",
       "    }\n",
       "\n",
       "    .dataframe tbody tr th {\n",
       "        vertical-align: top;\n",
       "    }\n",
       "\n",
       "    .dataframe thead th {\n",
       "        text-align: right;\n",
       "    }\n",
       "</style>\n",
       "<table border=\"1\" class=\"dataframe\">\n",
       "  <thead>\n",
       "    <tr style=\"text-align: right;\">\n",
       "      <th></th>\n",
       "      <th>company_name</th>\n",
       "      <th>industry</th>\n",
       "      <th>headquarters</th>\n",
       "      <th>founder_experience</th>\n",
       "      <th>total_funding_usd</th>\n",
       "      <th>num_funding_rounds</th>\n",
       "      <th>investors_count</th>\n",
       "      <th>status</th>\n",
       "      <th>last_funding_year</th>\n",
       "      <th>last_funding_month</th>\n",
       "      <th>founded_year</th>\n",
       "    </tr>\n",
       "  </thead>\n",
       "  <tbody>\n",
       "    <tr>\n",
       "      <th>0</th>\n",
       "      <td>Higgins Ltd</td>\n",
       "      <td>AI</td>\n",
       "      <td>Germany</td>\n",
       "      <td>1.0</td>\n",
       "      <td>23084966</td>\n",
       "      <td>2</td>\n",
       "      <td>5</td>\n",
       "      <td>fail</td>\n",
       "      <td>7</td>\n",
       "      <td>4</td>\n",
       "      <td>2</td>\n",
       "    </tr>\n",
       "    <tr>\n",
       "      <th>1</th>\n",
       "      <td>Vang-Lambert</td>\n",
       "      <td>HealthTech</td>\n",
       "      <td>US</td>\n",
       "      <td>6.0</td>\n",
       "      <td>17165649</td>\n",
       "      <td>2</td>\n",
       "      <td>2</td>\n",
       "      <td>fail</td>\n",
       "      <td>10</td>\n",
       "      <td>10</td>\n",
       "      <td>10</td>\n",
       "    </tr>\n",
       "    <tr>\n",
       "      <th>2</th>\n",
       "      <td>Castro-Chavez</td>\n",
       "      <td>Gaming</td>\n",
       "      <td>India</td>\n",
       "      <td>1.0</td>\n",
       "      <td>4997894</td>\n",
       "      <td>3</td>\n",
       "      <td>7</td>\n",
       "      <td>fail</td>\n",
       "      <td>9</td>\n",
       "      <td>8</td>\n",
       "      <td>8</td>\n",
       "    </tr>\n",
       "    <tr>\n",
       "      <th>3</th>\n",
       "      <td>Nelson-Taylor</td>\n",
       "      <td>FinTech</td>\n",
       "      <td>US</td>\n",
       "      <td>6.0</td>\n",
       "      <td>25655303</td>\n",
       "      <td>2</td>\n",
       "      <td>4</td>\n",
       "      <td>fail</td>\n",
       "      <td>1</td>\n",
       "      <td>11</td>\n",
       "      <td>1</td>\n",
       "    </tr>\n",
       "    <tr>\n",
       "      <th>4</th>\n",
       "      <td>Taylor PLC</td>\n",
       "      <td>E-Commerce</td>\n",
       "      <td>US</td>\n",
       "      <td>2.0</td>\n",
       "      <td>12127990</td>\n",
       "      <td>1</td>\n",
       "      <td>5</td>\n",
       "      <td>fail</td>\n",
       "      <td>14</td>\n",
       "      <td>3</td>\n",
       "      <td>12</td>\n",
       "    </tr>\n",
       "  </tbody>\n",
       "</table>\n",
       "</div>"
      ],
      "text/plain": [
       "    company_name    industry headquarters  founder_experience  \\\n",
       "0    Higgins Ltd          AI      Germany                 1.0   \n",
       "1   Vang-Lambert  HealthTech           US                 6.0   \n",
       "2  Castro-Chavez      Gaming        India                 1.0   \n",
       "3  Nelson-Taylor     FinTech           US                 6.0   \n",
       "4     Taylor PLC  E-Commerce           US                 2.0   \n",
       "\n",
       "   total_funding_usd  num_funding_rounds  investors_count status  \\\n",
       "0           23084966                   2                5   fail   \n",
       "1           17165649                   2                2   fail   \n",
       "2            4997894                   3                7   fail   \n",
       "3           25655303                   2                4   fail   \n",
       "4           12127990                   1                5   fail   \n",
       "\n",
       "   last_funding_year  last_funding_month  founded_year  \n",
       "0                  7                   4             2  \n",
       "1                 10                  10            10  \n",
       "2                  9                   8             8  \n",
       "3                  1                  11             1  \n",
       "4                 14                   3            12  "
      ]
     },
     "execution_count": 30,
     "metadata": {},
     "output_type": "execute_result"
    }
   ],
   "source": [
    "df.head()"
   ]
  },
  {
   "cell_type": "code",
   "execution_count": 31,
   "id": "8e285f42-3059-43c1-aa49-832c1403872e",
   "metadata": {},
   "outputs": [
    {
     "data": {
      "text/html": [
       "<div>\n",
       "<style scoped>\n",
       "    .dataframe tbody tr th:only-of-type {\n",
       "        vertical-align: middle;\n",
       "    }\n",
       "\n",
       "    .dataframe tbody tr th {\n",
       "        vertical-align: top;\n",
       "    }\n",
       "\n",
       "    .dataframe thead th {\n",
       "        text-align: right;\n",
       "    }\n",
       "</style>\n",
       "<table border=\"1\" class=\"dataframe\">\n",
       "  <thead>\n",
       "    <tr style=\"text-align: right;\">\n",
       "      <th></th>\n",
       "      <th>company_name</th>\n",
       "      <th>industry</th>\n",
       "      <th>headquarters</th>\n",
       "      <th>founder_experience</th>\n",
       "      <th>total_funding_usd</th>\n",
       "      <th>num_funding_rounds</th>\n",
       "      <th>investors_count</th>\n",
       "      <th>last_funding_year</th>\n",
       "      <th>last_funding_month</th>\n",
       "      <th>founded_year</th>\n",
       "    </tr>\n",
       "  </thead>\n",
       "  <tbody>\n",
       "    <tr>\n",
       "      <th>0</th>\n",
       "      <td>Higgins Ltd</td>\n",
       "      <td>AI</td>\n",
       "      <td>Germany</td>\n",
       "      <td>1.0</td>\n",
       "      <td>23084966</td>\n",
       "      <td>2</td>\n",
       "      <td>5</td>\n",
       "      <td>7</td>\n",
       "      <td>4</td>\n",
       "      <td>2</td>\n",
       "    </tr>\n",
       "    <tr>\n",
       "      <th>1</th>\n",
       "      <td>Vang-Lambert</td>\n",
       "      <td>HealthTech</td>\n",
       "      <td>US</td>\n",
       "      <td>6.0</td>\n",
       "      <td>17165649</td>\n",
       "      <td>2</td>\n",
       "      <td>2</td>\n",
       "      <td>10</td>\n",
       "      <td>10</td>\n",
       "      <td>10</td>\n",
       "    </tr>\n",
       "    <tr>\n",
       "      <th>2</th>\n",
       "      <td>Castro-Chavez</td>\n",
       "      <td>Gaming</td>\n",
       "      <td>India</td>\n",
       "      <td>1.0</td>\n",
       "      <td>4997894</td>\n",
       "      <td>3</td>\n",
       "      <td>7</td>\n",
       "      <td>9</td>\n",
       "      <td>8</td>\n",
       "      <td>8</td>\n",
       "    </tr>\n",
       "    <tr>\n",
       "      <th>3</th>\n",
       "      <td>Nelson-Taylor</td>\n",
       "      <td>FinTech</td>\n",
       "      <td>US</td>\n",
       "      <td>6.0</td>\n",
       "      <td>25655303</td>\n",
       "      <td>2</td>\n",
       "      <td>4</td>\n",
       "      <td>1</td>\n",
       "      <td>11</td>\n",
       "      <td>1</td>\n",
       "    </tr>\n",
       "    <tr>\n",
       "      <th>4</th>\n",
       "      <td>Taylor PLC</td>\n",
       "      <td>E-Commerce</td>\n",
       "      <td>US</td>\n",
       "      <td>2.0</td>\n",
       "      <td>12127990</td>\n",
       "      <td>1</td>\n",
       "      <td>5</td>\n",
       "      <td>14</td>\n",
       "      <td>3</td>\n",
       "      <td>12</td>\n",
       "    </tr>\n",
       "  </tbody>\n",
       "</table>\n",
       "</div>"
      ],
      "text/plain": [
       "    company_name    industry headquarters  founder_experience  \\\n",
       "0    Higgins Ltd          AI      Germany                 1.0   \n",
       "1   Vang-Lambert  HealthTech           US                 6.0   \n",
       "2  Castro-Chavez      Gaming        India                 1.0   \n",
       "3  Nelson-Taylor     FinTech           US                 6.0   \n",
       "4     Taylor PLC  E-Commerce           US                 2.0   \n",
       "\n",
       "   total_funding_usd  num_funding_rounds  investors_count  last_funding_year  \\\n",
       "0           23084966                   2                5                  7   \n",
       "1           17165649                   2                2                 10   \n",
       "2            4997894                   3                7                  9   \n",
       "3           25655303                   2                4                  1   \n",
       "4           12127990                   1                5                 14   \n",
       "\n",
       "   last_funding_month  founded_year  \n",
       "0                   4             2  \n",
       "1                  10            10  \n",
       "2                   8             8  \n",
       "3                  11             1  \n",
       "4                   3            12  "
      ]
     },
     "execution_count": 31,
     "metadata": {},
     "output_type": "execute_result"
    }
   ],
   "source": [
    "X = df.drop('status', axis=1).copy()\n",
    "X.head()"
   ]
  },
  {
   "cell_type": "code",
   "execution_count": 32,
   "id": "a86fe81c-f190-4546-9f4b-d6999fb53384",
   "metadata": {},
   "outputs": [],
   "source": [
    "categorical_cols = X.select_dtypes(include='object').columns"
   ]
  },
  {
   "cell_type": "code",
   "execution_count": 33,
   "id": "e959e8ee-f406-4a2d-ba04-e9073fe4b6ef",
   "metadata": {},
   "outputs": [],
   "source": [
    "numeric_cols = X.select_dtypes(include='int').columns"
   ]
  },
  {
   "cell_type": "code",
   "execution_count": 34,
   "id": "90463ce0-eac8-441a-88af-4e36bcf56354",
   "metadata": {},
   "outputs": [
    {
     "data": {
      "text/plain": [
       "Index(['company_name', 'industry', 'headquarters'], dtype='object')"
      ]
     },
     "execution_count": 34,
     "metadata": {},
     "output_type": "execute_result"
    }
   ],
   "source": [
    "categorical_cols"
   ]
  },
  {
   "cell_type": "code",
   "execution_count": 35,
   "id": "89df907d-0366-48f2-a036-c6e36a7e2b0f",
   "metadata": {},
   "outputs": [
    {
     "data": {
      "text/plain": [
       "Index(['total_funding_usd', 'num_funding_rounds', 'investors_count',\n",
       "       'last_funding_year', 'last_funding_month', 'founded_year'],\n",
       "      dtype='object')"
      ]
     },
     "execution_count": 35,
     "metadata": {},
     "output_type": "execute_result"
    }
   ],
   "source": [
    "numeric_cols"
   ]
  },
  {
   "cell_type": "code",
   "execution_count": 36,
   "id": "b6fd0995-7c4f-4404-bae8-6a4f55b0e99c",
   "metadata": {},
   "outputs": [
    {
     "name": "stdout",
     "output_type": "stream",
     "text": [
      "<class 'pandas.core.frame.DataFrame'>\n",
      "Index: 14250 entries, 0 to 14999\n",
      "Data columns (total 10 columns):\n",
      " #   Column              Non-Null Count  Dtype  \n",
      "---  ------              --------------  -----  \n",
      " 0   company_name        14250 non-null  object \n",
      " 1   industry            14250 non-null  object \n",
      " 2   headquarters        14250 non-null  object \n",
      " 3   founder_experience  14250 non-null  float64\n",
      " 4   total_funding_usd   14250 non-null  int64  \n",
      " 5   num_funding_rounds  14250 non-null  int64  \n",
      " 6   investors_count     14250 non-null  int64  \n",
      " 7   last_funding_year   14250 non-null  int32  \n",
      " 8   last_funding_month  14250 non-null  int32  \n",
      " 9   founded_year        14250 non-null  int32  \n",
      "dtypes: float64(1), int32(3), int64(3), object(3)\n",
      "memory usage: 1.0+ MB\n"
     ]
    }
   ],
   "source": [
    "X.info()"
   ]
  },
  {
   "cell_type": "code",
   "execution_count": 38,
   "id": "9a7cda78-bbac-4eb7-a744-c9a414ad550f",
   "metadata": {},
   "outputs": [
    {
     "name": "stdout",
     "output_type": "stream",
     "text": [
      "         company_name    industry headquarters  founder_experience  \\\n",
      "0         Higgins Ltd          AI      Germany                 1.0   \n",
      "1        Vang-Lambert  HealthTech           US                 6.0   \n",
      "2       Castro-Chavez      Gaming        India                 1.0   \n",
      "3       Nelson-Taylor     FinTech           US                 6.0   \n",
      "4          Taylor PLC  E-Commerce           US                 2.0   \n",
      "...               ...         ...          ...                 ...   \n",
      "14994   Hester-Miller  HealthTech      Germany                 4.0   \n",
      "14996  Sanford-Juarez      EdTech    Singapore                12.0   \n",
      "14997    Moran-Bailey  E-Commerce    Singapore                 7.0   \n",
      "14998      Cruz-Oneal     FinTech       Canada                 2.0   \n",
      "14999       Lewis PLC      Gaming    Singapore                 3.0   \n",
      "\n",
      "       total_funding_usd  num_funding_rounds  investors_count  \\\n",
      "0               23084966                   2                5   \n",
      "1               17165649                   2                2   \n",
      "2                4997894                   3                7   \n",
      "3               25655303                   2                4   \n",
      "4               12127990                   1                5   \n",
      "...                  ...                 ...              ...   \n",
      "14994           18902683                   2                3   \n",
      "14996           12131720                   1                3   \n",
      "14997           13375032                   2                5   \n",
      "14998           22436403                   1                8   \n",
      "14999           17883529                   6                3   \n",
      "\n",
      "       last_funding_year  last_funding_month  founded_year  \n",
      "0                      7                   4             2  \n",
      "1                     10                  10            10  \n",
      "2                      9                   8             8  \n",
      "3                      1                  11             1  \n",
      "4                     14                   3            12  \n",
      "...                  ...                 ...           ...  \n",
      "14994                  6                   3             4  \n",
      "14996                 10                   1             8  \n",
      "14997                  6                   3             4  \n",
      "14998                 11                   3             7  \n",
      "14999                  1                  11             0  \n",
      "\n",
      "[14250 rows x 10 columns]\n"
     ]
    }
   ],
   "source": [
    "print(X)"
   ]
  },
  {
   "cell_type": "code",
   "execution_count": 39,
   "id": "cf39335e-eaa5-4047-b562-5fe01cfec13b",
   "metadata": {},
   "outputs": [
    {
     "data": {
      "text/plain": [
       "0    fail\n",
       "1    fail\n",
       "2    fail\n",
       "3    fail\n",
       "4    fail\n",
       "Name: status, dtype: object"
      ]
     },
     "execution_count": 39,
     "metadata": {},
     "output_type": "execute_result"
    }
   ],
   "source": [
    "y = df['status'].copy()\n",
    "y.head()"
   ]
  },
  {
   "cell_type": "code",
   "execution_count": 40,
   "id": "e69ee0b6-7359-4c77-97a6-a2732a3fc71f",
   "metadata": {},
   "outputs": [
    {
     "name": "stdout",
     "output_type": "stream",
     "text": [
      "status\n",
      "fail       0.710386\n",
      "success    0.289614\n",
      "Name: proportion, dtype: float64\n"
     ]
    }
   ],
   "source": [
    "print(y.value_counts(normalize=True))"
   ]
  },
  {
   "cell_type": "markdown",
   "id": "dc20e4fb-6227-43ea-955d-9fd0911fa56b",
   "metadata": {},
   "source": [
    "## Configuration File Creation ##"
   ]
  },
  {
   "cell_type": "code",
   "execution_count": 41,
   "id": "6d747204-da44-443f-9902-3af1217bd75f",
   "metadata": {},
   "outputs": [],
   "source": [
    "config ={\n",
    "    'model_params':{\n",
    "        'n_estimators': 100,\n",
    "        'max_depth': 3,\n",
    "        'random_state': 42,\n",
    "    },\n",
    "    'target': 'status'\n",
    "}\n",
    "\n",
    "with open('config.yaml','w') as file:\n",
    "    yaml.dump(config,file)"
   ]
  },
  {
   "cell_type": "code",
   "execution_count": 42,
   "id": "17c4fb52-b93a-47eb-a242-e55a85b793ff",
   "metadata": {},
   "outputs": [],
   "source": [
    "with open('config.yaml', 'r') as file:\n",
    "    config = yaml.safe_load(file)\n",
    "\n",
    "config['train_size'] = 0.65\n",
    "config['test_size'] = 0.35\n",
    "\n",
    "with open('config.yaml', 'w') as file: \n",
    "    yaml.dump(config,file)"
   ]
  },
  {
   "cell_type": "code",
   "execution_count": 43,
   "id": "a5a3654a-75c4-4819-ad03-9818ab73b173",
   "metadata": {},
   "outputs": [],
   "source": [
    "with open('config.yaml', 'r') as file:\n",
    "    config = yaml.safe_load(file)\n",
    "\n",
    "config['n_splits'] = 6\n",
    "\n",
    "with open('config.yaml', 'w') as file: \n",
    "    yaml.dump(config,file)"
   ]
  },
  {
   "cell_type": "code",
   "execution_count": 44,
   "id": "b85ffbde-fba1-4dd5-bb92-56b701e1de80",
   "metadata": {},
   "outputs": [],
   "source": [
    "with open('config.yaml', 'r') as file:\n",
    "    config = yaml.safe_load(file)\n",
    "\n",
    "config['shuffle'] = True\n",
    "\n",
    "with open('config.yaml', 'w') as file: \n",
    "    yaml.dump(config,file)"
   ]
  },
  {
   "cell_type": "markdown",
   "id": "abd75c51-9d24-41ad-81a2-1faa96414c86",
   "metadata": {},
   "source": [
    "## Model Building Pipeline ##"
   ]
  },
  {
   "cell_type": "code",
   "execution_count": 56,
   "id": "3654417f-eb57-43aa-b438-b2ca3576ff73",
   "metadata": {},
   "outputs": [],
   "source": [
    "class Pipeline():\n",
    "    def __init__(self,config, catg_cols, num_cols):\n",
    "        self.config = config \n",
    "        self.catg_cols = catg_cols\n",
    "        self.num_cols = num_cols\n",
    "\n",
    "    def get_model(self):\n",
    "        return RandomForestClassifier(\n",
    "            n_estimators= self.config['model_params']['n_estimators'],\n",
    "            max_depth=self.config['model_params']['max_depth'],\n",
    "            random_state= self.config['model_params']['random_state']\n",
    "        )\n",
    "\n",
    "    def build_pipeline(self):\n",
    "        preprocessor = ColumnTransformer(\n",
    "            transformers=[\n",
    "                ('cat', OneHotEncoder(handle_unknown='ignore'), self.catg_cols),\n",
    "                ('num', StandardScaler(), self.num_cols)\n",
    "            ],\n",
    "            remainder='drop'\n",
    "        )\n",
    "        pipeline = Sklp([\n",
    "            ('preprocessing', preprocessor),\n",
    "            ('classifier', self.get_model())\n",
    "        ])\n",
    "        return pipeline\n",
    "\n",
    "    def train_test_data(self,X,y):\n",
    "        X_train, X_test, y_train, y_test = train_test_split(X,y,train_size=self.config['train_size'],shuffle=True)\n",
    "        return X_train, X_test, y_train, y_test\n",
    "\n",
    "    def model_fit(self,X,y):\n",
    "        clf = self.build_pipeline()\n",
    "        clf.fit(X,y)\n",
    "        return clf\n",
    "\n",
    "    def model_validate(self,X,y):\n",
    "        model = self.build_pipeline()\n",
    "        skf = StratifiedKFold(n_splits=self.config['n_splits'],shuffle=True, random_state=self.config['model_params']['random_state'])\n",
    "        scores = cross_val_score(model, X,y, cv=skf, scoring='accuracy')\n",
    "        print(f\"Cross-Validation Accuracy Scores: {scores}\")\n",
    "        print(f\"Mean Accuracy: {np.mean(scores):.4f}\")\n",
    "        print(f\"Standard Deviation: {np.std(scores):.4f}\")\n",
    "\n",
    "    def model_predict(self,model,X,y):\n",
    "        preds = model.predict(X)\n",
    "        return preds\n",
    "\n",
    "    def run(self,X,y):\n",
    "        self.model_validate(X,y)\n",
    "        X_train, X_test, y_train, y_test = self.train_test_data(X,y)\n",
    "        mod = self.model_fit(X_train,y_train)\n",
    "        predictions= self.model_predict(mod,X_test,y_test)\n",
    "        test_accuracy = accuracy_score(y_test, predictions)\n",
    "        print(f\"Test Accuracy: {test_accuracy:.4f}\")\n",
    "        return mod, predictions"
   ]
  },
  {
   "cell_type": "markdown",
   "id": "95d68ac0-f4e1-48c4-912e-9933f601fdff",
   "metadata": {},
   "source": [
    "## Model Initialization and Predictions ##"
   ]
  },
  {
   "cell_type": "code",
   "execution_count": 57,
   "id": "f828b8e7-d236-4b12-bd6c-03287f2f4a3e",
   "metadata": {},
   "outputs": [
    {
     "name": "stdout",
     "output_type": "stream",
     "text": [
      "Cross-Validation Accuracy Scores: [0.71073684 0.71031579 0.71031579 0.71031579 0.71031579 0.71031579]\n",
      "Mean Accuracy: 0.7104\n",
      "Standard Deviation: 0.0002\n",
      "Test Accuracy: 0.6979\n",
      "['fail' 'fail' 'fail' ... 'fail' 'fail' 'fail']\n"
     ]
    }
   ],
   "source": [
    "catg_cols = ['company_name', 'industry', 'headquarters']\n",
    "num_cols = ['total_funding_usd', 'num_funding_rounds', 'investors_count',\n",
    "       'founded_year','founder_experience','last_funding_year','last_funding_month']\n",
    "pipe = Pipeline(config,catg_cols,num_cols)\n",
    "model,preds = pipe.run(X,y)\n",
    "print(preds)"
   ]
  },
  {
   "cell_type": "code",
   "execution_count": 65,
   "id": "5e3a804b-4d34-4b4b-bfcf-b74b76bc084f",
   "metadata": {},
   "outputs": [],
   "source": [
    "model_path ='model/model.joblib'\n",
    "os.makedirs(os.path.dirname(model_path), exist_ok=True)\n",
    "joblib.dump(model,model_path) \n",
    "with open('config.yaml', 'r') as file:\n",
    "    config = yaml.safe_load(file)\n",
    "\n",
    "config['model_path'] = model_path\n",
    "\n",
    "with open('config.yaml', 'w') as file: \n",
    "    yaml.dump(config,file)"
   ]
  }
 ],
 "metadata": {
  "kernelspec": {
   "display_name": "Python 3 (ipykernel)",
   "language": "python",
   "name": "python3"
  },
  "language_info": {
   "codemirror_mode": {
    "name": "ipython",
    "version": 3
   },
   "file_extension": ".py",
   "mimetype": "text/x-python",
   "name": "python",
   "nbconvert_exporter": "python",
   "pygments_lexer": "ipython3",
   "version": "3.11.7"
  }
 },
 "nbformat": 4,
 "nbformat_minor": 5
}
